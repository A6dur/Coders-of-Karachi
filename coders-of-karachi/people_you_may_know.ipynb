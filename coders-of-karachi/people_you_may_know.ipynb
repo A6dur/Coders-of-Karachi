{
 "cells": [
  {
   "cell_type": "code",
   "execution_count": 20,
   "id": "87c50588-36f8-4542-8d35-61499856aa84",
   "metadata": {},
   "outputs": [
    {
     "name": "stdout",
     "output_type": "stream",
     "text": [
      "2\n",
      "{7: 1}\n",
      "3\n",
      "{7: 2}\n",
      "{7: 2, 8: 1}\n",
      "4\n",
      "{7: 2, 8: 2}\n",
      "{7: 2, 8: 2, 9: 1}\n",
      "5\n",
      "{7: 2, 8: 2, 9: 1, 10: 1}\n",
      "{7: 2, 8: 2, 9: 1, 10: 1, 11: 1}\n",
      "6\n",
      "{7: 2, 8: 2, 9: 1, 10: 1, 11: 1, 12: 1}\n",
      "[7, 8, 9, 10, 11, 12]\n"
     ]
    }
   ],
   "source": [
    "import json\n",
    "\n",
    "def load_data(filename):\n",
    "    with open(filename , \"r\") as f :\n",
    "        return json.load(f)\n",
    "def people_you_may_know(user_id , data) :\n",
    "    user_friends = {}\n",
    "    for user in data[\"users\"] :\n",
    "        user_friends[user['id']] = set(user['friends'])\n",
    "        # print(f\"{user_friends}\")\n",
    "    if user_id not in user_friends:\n",
    "        return 0\n",
    "    else:\n",
    "        direct_friends = user_friends[user_id]\n",
    "        # print(f\"{ user_friends[user_id]}\")\n",
    "        suggestion = {}\n",
    "        for friend in direct_friends:\n",
    "            print(f\"{friend}\")\n",
    "            for mutual in user_friends[friend]:\n",
    "                #print(f\"{mutual}\") \n",
    "                if mutual != user_id and mutual not in direct_friends :\n",
    "                    suggestion[mutual] = suggestion.get(mutual , 0) + 1\n",
    "                    print(f\"{suggestion}\")\n",
    "        sorted_suggestion = sorted(suggestion.items() , reverse=True , key = lambda x : x[1])\n",
    "        return [user_id for user_id , _ in sorted_suggestion]\n",
    "        \n",
    "        \n",
    "data = load_data(\"massive_data.json\")\n",
    "user_id = 1\n",
    "recc = people_you_may_know(user_id , data)\n",
    "print(recc)"
   ]
  },
  {
   "cell_type": "code",
   "execution_count": null,
   "id": "717b75bc-affb-4c30-bd13-4e16626e7f80",
   "metadata": {},
   "outputs": [],
   "source": []
  }
 ],
 "metadata": {
  "kernelspec": {
   "display_name": "Python 3",
   "language": "python",
   "name": "python3"
  },
  "language_info": {
   "codemirror_mode": {
    "name": "ipython",
    "version": 3
   },
   "file_extension": ".py",
   "mimetype": "text/x-python",
   "name": "python",
   "nbconvert_exporter": "python",
   "pygments_lexer": "ipython3",
   "version": "3.6.13"
  }
 },
 "nbformat": 4,
 "nbformat_minor": 5
}
