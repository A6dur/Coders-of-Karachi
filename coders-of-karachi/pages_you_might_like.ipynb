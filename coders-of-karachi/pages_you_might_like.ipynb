{
 "cells": [
  {
   "cell_type": "code",
   "execution_count": 4,
   "id": "b02f0f8f-7c23-4562-a729-e44e8112661f",
   "metadata": {},
   "outputs": [
    {
     "name": "stdout",
     "output_type": "stream",
     "text": [
      "[101, 105, 108, 104, 106, 107, 109, 110, 111, 112, 113, 114, 115, 116, 117, 118, 119, 120, 121, 122, 123, 124, 125, 126, 127]\n"
     ]
    }
   ],
   "source": [
    "import json\n",
    "\n",
    "def load_data(filename):\n",
    "    with open(filename , \"r\") as f :\n",
    "        return json.load(f)\n",
    "    \n",
    "def pages_you_might_like(user_id , data):\n",
    "    liked_pages = {}\n",
    "    for user in data[\"users\"]:\n",
    "        liked_pages[user['id']] = set(user['liked_pages'])\n",
    "    if user_id not in liked_pages:\n",
    "        return 0\n",
    "    \n",
    "    user_liked_pages = liked_pages[user_id]\n",
    "    page_suggestion = {}\n",
    "    \n",
    "    for other_user , pages in liked_pages.items():\n",
    "        if other_user != user_id :\n",
    "            shared_pages = user_liked_pages.intersection(pages)\n",
    "        for page in pages:\n",
    "            if page not in user_liked_pages :\n",
    "                page_suggestion[page] = page_suggestion.get(page , 0) + len(shared_pages)\n",
    "    sorted_pages = sorted(page_suggestion.items() , key = lambda x : x[1] , reverse = True)\n",
    "    return [page_id for page_id , _ in sorted_pages]\n",
    "\n",
    "\n",
    "data = load_data(\"massive_data.json\")\n",
    "user_id = 2\n",
    "recc = pages_you_might_like(user_id , data)\n",
    "print(recc)"
   ]
  },
  {
   "cell_type": "code",
   "execution_count": null,
   "id": "e20060e8-33b5-48b0-8979-af55a9c905ee",
   "metadata": {},
   "outputs": [],
   "source": []
  }
 ],
 "metadata": {
  "kernelspec": {
   "display_name": "Python 3",
   "language": "python",
   "name": "python3"
  },
  "language_info": {
   "codemirror_mode": {
    "name": "ipython",
    "version": 3
   },
   "file_extension": ".py",
   "mimetype": "text/x-python",
   "name": "python",
   "nbconvert_exporter": "python",
   "pygments_lexer": "ipython3",
   "version": "3.6.13"
  }
 },
 "nbformat": 4,
 "nbformat_minor": 5
}
