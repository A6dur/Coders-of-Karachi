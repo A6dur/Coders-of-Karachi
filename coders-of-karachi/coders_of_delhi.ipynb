{
 "cells": [
  {
   "cell_type": "code",
   "execution_count": 1,
   "id": "fe35cd6c-959f-4632-a29d-3d465436a5dd",
   "metadata": {},
   "outputs": [],
   "source": [
    "import json"
   ]
  },
  {
   "cell_type": "code",
   "execution_count": 3,
   "id": "7560714c-9fe4-401d-8bee-e63f3630a661",
   "metadata": {},
   "outputs": [],
   "source": [
    "def load_data(filename):\n",
    "    with open(filename , \"r\") as f:\n",
    "        data = json.load(f)\n",
    "    return data"
   ]
  },
  {
   "cell_type": "code",
   "execution_count": 5,
   "id": "573c492f-414d-4d02-8693-75ce9b1a777c",
   "metadata": {},
   "outputs": [],
   "source": [
    "data = load_data(\"data.json\")"
   ]
  },
  {
   "cell_type": "code",
   "execution_count": 6,
   "id": "0f4495f4-9368-4580-9593-dc3a05c819e9",
   "metadata": {},
   "outputs": [
    {
     "data": {
      "text/plain": [
       "{'users': [{'id': 1, 'name': 'Amit', 'friends': [2, 3], 'liked_pages': [101]},\n",
       "  {'id': 2, 'name': 'Priya', 'friends': [1, 4], 'liked_pages': [102]},\n",
       "  {'id': 3, 'name': 'Rahul', 'friends': [1], 'liked_pages': [101, 103]},\n",
       "  {'id': 4, 'name': 'Sara', 'friends': [2], 'liked_pages': [104]}],\n",
       " 'pages': [{'id': 101, 'name': 'Python Developers'},\n",
       "  {'id': 102, 'name': 'Data Science Enthusiasts'},\n",
       "  {'id': 103, 'name': 'AI & ML Community'},\n",
       "  {'id': 104, 'name': 'Web Dev Hub'}]}"
      ]
     },
     "execution_count": 6,
     "metadata": {},
     "output_type": "execute_result"
    }
   ],
   "source": [
    "\n",
    "data\n",
    "    \n",
    "    "
   ]
  },
  {
   "cell_type": "code",
   "execution_count": 9,
   "id": "b94ee456-c029-4cd2-9ee7-e2f3970193e0",
   "metadata": {},
   "outputs": [
    {
     "name": "stdout",
     "output_type": "stream",
     "text": [
      "The name of the person is Amit and is friend with [2, 3] and the liked pages are [101]\n",
      "The name of the person is Priya and is friend with [1, 4] and the liked pages are [102]\n",
      "The name of the person is Rahul and is friend with [1] and the liked pages are [101, 103]\n",
      "The name of the person is Sara and is friend with [2] and the liked pages are [104]\n",
      "Pages Info\n",
      "101 : Python Developers\n",
      "102 : Data Science Enthusiasts\n",
      "103 : AI & ML Community\n",
      "104 : Web Dev Hub\n"
     ]
    }
   ],
   "source": [
    "def display_data(data):\n",
    "    for user in data['users']:\n",
    "        print(f\"The name of the person is {user['name']} and is friend with {user['friends']} and the liked pages are {user['liked_pages']}\")\n",
    "    print(\"Pages Info\")\n",
    "    for page in data['pages']:\n",
    "        print(f\"{page['id']} : {page['name']}\")\n",
    "        \n",
    "        \n",
    "display_data(data)"
   ]
  },
  {
   "cell_type": "code",
   "execution_count": null,
   "id": "47d9fb0d-e4d1-40ce-a563-f7f296897c62",
   "metadata": {},
   "outputs": [],
   "source": []
  }
 ],
 "metadata": {
  "kernelspec": {
   "display_name": "Python 3",
   "language": "python",
   "name": "python3"
  },
  "language_info": {
   "codemirror_mode": {
    "name": "ipython",
    "version": 3
   },
   "file_extension": ".py",
   "mimetype": "text/x-python",
   "name": "python",
   "nbconvert_exporter": "python",
   "pygments_lexer": "ipython3",
   "version": "3.6.13"
  }
 },
 "nbformat": 4,
 "nbformat_minor": 5
}
