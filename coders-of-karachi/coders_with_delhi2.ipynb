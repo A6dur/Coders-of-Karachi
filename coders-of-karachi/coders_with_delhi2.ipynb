{
 "cells": [
  {
   "cell_type": "code",
   "execution_count": 5,
   "id": "e626726d-d4ea-4cbd-9738-5ee9e8adb2ef",
   "metadata": {},
   "outputs": [
    {
     "name": "stdout",
     "output_type": "stream",
     "text": [
      "data has been cleaned successfully\n"
     ]
    }
   ],
   "source": [
    "import json\n",
    "\n",
    "\n",
    "def data_clean(data):\n",
    "    data['users'] = [user for user in data['users'] if user['name'].strip()]\n",
    "    for user in data['users']:\n",
    "        user['friends'] = list(set(user['friends']))\n",
    "    data['users'] = [user for user in data['users'] if user['friends'] or user['liked_pages']]\n",
    "    \n",
    "    unique_pages = {}\n",
    "    for page in data['pages']:\n",
    "        unique_pages[page['id']] = page\n",
    "    data['pages'] = list(unique_pages.values()) \n",
    "    return data\n",
    "\n",
    "\n",
    "data = json.load(open(\"data2.json\" , \"r\"))\n",
    "data  = data_clean(data)\n",
    "json.dump(data , open(\"new_data2.json\" , \"w\" ) , indent=4)\n",
    "print(\"data has been cleaned successfully\")"
   ]
  },
  {
   "cell_type": "code",
   "execution_count": 2,
   "id": "793de435-bf86-4b66-8d5d-4d45c7ced908",
   "metadata": {},
   "outputs": [],
   "source": []
  },
  {
   "cell_type": "code",
   "execution_count": null,
   "id": "67423c7f-7665-44c4-b1a7-23e1be289a46",
   "metadata": {},
   "outputs": [],
   "source": []
  }
 ],
 "metadata": {
  "kernelspec": {
   "display_name": "Python 3",
   "language": "python",
   "name": "python3"
  },
  "language_info": {
   "codemirror_mode": {
    "name": "ipython",
    "version": 3
   },
   "file_extension": ".py",
   "mimetype": "text/x-python",
   "name": "python",
   "nbconvert_exporter": "python",
   "pygments_lexer": "ipython3",
   "version": "3.6.13"
  }
 },
 "nbformat": 4,
 "nbformat_minor": 5
}
